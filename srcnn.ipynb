{
 "cells": [
  {
   "cell_type": "code",
   "execution_count": null,
   "metadata": {},
   "outputs": [],
   "source": [
    "import torch\n",
    "import torch.nn\n",
    "import torch.nn.functional as F\n",
    "from torch.utils.data import DataLoader\n",
    "from torchvision.utils import save_image\n",
    "\n",
    "import pytorch_lightning as pl\n",
    "\n",
    "from torch_enhance.datasets import BSDS300, Set14, Set5\n",
    "from torch_enhance.models import MYSRCNN, SRCNN, MYSRCNN2, MYSRCNN3\n",
    "from torch_enhance import metrics\n",
    "\n",
    "from torchvision.utils import save_image\n",
    "\n",
    "import cv2\n",
    "import matplotlib.pyplot as plt"
   ]
  },
  {
   "cell_type": "code",
   "execution_count": null,
   "metadata": {},
   "outputs": [],
   "source": [
    "class Module(pl.LightningModule):\n",
    "\n",
    "    def __init__(self, model):\n",
    "        super().__init__()\n",
    "        self.model = model\n",
    "\n",
    "    def forward(self, x):\n",
    "        return self.model(x)\n",
    "\n",
    "    def configure_optimizers(self):\n",
    "        return torch.optim.Adam(self.parameters(), lr=1e-3)\n",
    "\n",
    "    def training_step(self, batch, batch_idx):\n",
    "        lr, hr = batch\n",
    "        sr = self(lr)\n",
    "        loss = F.mse_loss(sr, hr, reduction=\"mean\")\n",
    "        \n",
    "        # metrics\n",
    "        mae = metrics.mae(sr, hr)\n",
    "        psnr = metrics.psnr(sr, hr)\n",
    "\n",
    "        # Logs\n",
    "        self.log(\"train_loss\", loss)\n",
    "        self.log(\"train_mae\", mae)\n",
    "        self.log(\"train_psnr\", psnr)\n",
    "\n",
    "        return loss\n",
    "\n",
    "    def validation_step(self, batch, batch_idx):\n",
    "        lr, hr = batch\n",
    "        sr = self(lr)\n",
    "        loss = F.mse_loss(sr, hr, reduction=\"mean\")\n",
    "        \n",
    "        # metrics\n",
    "        mae = metrics.mae(sr, hr)\n",
    "        psnr = metrics.psnr(sr, hr)\n",
    "\n",
    "        # Logs\n",
    "        self.log(\"val_loss\", loss)\n",
    "        self.log(\"val_mae\", mae)\n",
    "        self.log(\"val_psnr\", psnr)\n",
    "\n",
    "        return loss\n",
    "\n",
    "    def test_step(self, batch, batch_idx):\n",
    "        lr, hr = batch\n",
    "        sr = self(lr)\n",
    "        loss = F.mse_loss(sr, hr, reduction=\"mean\")\n",
    "        \n",
    "        # metrics\n",
    "        mae = metrics.mae(sr, hr)\n",
    "        psnr = metrics.psnr(sr, hr)\n",
    "\n",
    "        # Logs\n",
    "        self.log(\"test_loss\", loss)\n",
    "        self.log(\"test_mae\", mae)\n",
    "        self.log(\"test_psnr\", psnr)\n",
    "\n",
    "        return loss"
   ]
  },
  {
   "cell_type": "code",
   "execution_count": null,
   "metadata": {},
   "outputs": [],
   "source": [
    "# Hyper parameters\n",
    "scale_factor = 1\n",
    "channels = 3\n",
    "\n",
    "# Setup dataloaders\n",
    "train_dataset = BSDS300(scale_factor=scale_factor)\n",
    "val_dataset = Set14(scale_factor=scale_factor)\n",
    "test_dataset = Set5(scale_factor=scale_factor)\n",
    "train_dataloader = DataLoader(train_dataset, batch_size=32, num_workers=4)\n",
    "val_dataloader = DataLoader(val_dataset, batch_size=1, num_workers=4)\n",
    "test_dataloader = DataLoader(test_dataset, batch_size=1, num_workers=4)\n",
    "\n",
    "# Define model\n",
    "model = MYSRCNN3(scale_factor, channels)\n",
    "module = Module(model)"
   ]
  },
  {
   "cell_type": "code",
   "execution_count": null,
   "metadata": {},
   "outputs": [],
   "source": [
    "# Train\n",
    "torch.set_float32_matmul_precision('high')\n",
    "trainer = pl.Trainer(\n",
    "\tmax_epochs=200,\n",
    "\taccelerator=\"gpu\"\n",
    ")\n",
    "trainer.fit(\n",
    "\tmodule,\n",
    "\ttrain_dataloader,\n",
    "\tval_dataloader\n",
    ")\n",
    "trainer.test(module, test_dataloader)"
   ]
  },
  {
   "cell_type": "code",
   "execution_count": null,
   "metadata": {},
   "outputs": [],
   "source": [
    "# Uncomment to save the current model\n",
    "# torch.save(model.state_dict(), \"model_path.pt\")"
   ]
  },
  {
   "cell_type": "code",
   "execution_count": null,
   "metadata": {},
   "outputs": [],
   "source": [
    "# Uncomment to load model from path\n",
    "# model = MYSRCNN3(scale_factor, channels)\n",
    "# model.load_state_dict(torch.load(\"SRCNN_weight_400_3.pt\"))\n",
    "# model.eval()"
   ]
  }
 ],
 "metadata": {
  "kernelspec": {
   "display_name": "base",
   "language": "python",
   "name": "python3"
  },
  "language_info": {
   "codemirror_mode": {
    "name": "ipython",
    "version": 3
   },
   "file_extension": ".py",
   "mimetype": "text/x-python",
   "name": "python",
   "nbconvert_exporter": "python",
   "pygments_lexer": "ipython3",
   "version": "3.9.12"
  },
  "orig_nbformat": 4
 },
 "nbformat": 4,
 "nbformat_minor": 2
}
